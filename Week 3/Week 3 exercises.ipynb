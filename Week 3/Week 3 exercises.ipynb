{
 "cells": [
  {
   "cell_type": "code",
   "execution_count": 72,
   "metadata": {},
   "outputs": [],
   "source": [
    "import numpy as np\n",
    "from Network import Network # neural network class, defined in separate file\n",
    "from sklearn import datasets\n",
    "from sklearn.preprocessing import OneHotEncoder, StandardScaler, MinMaxScaler\n",
    "from sklearn.model_selection import train_test_split\n",
    "import matplotlib.pyplot as plt\n",
    "from sklearn.metrics import roc_auc_score, accuracy_score\n",
    "from sklearn.linear_model import MultiTaskLassoCV, RidgeCV\n",
    "%matplotlib inline"
   ]
  },
  {
   "cell_type": "markdown",
   "metadata": {},
   "source": [
    "# Exercise 1: Logistic Regression and perceptron"
   ]
  },
  {
   "cell_type": "code",
   "execution_count": 2,
   "metadata": {},
   "outputs": [],
   "source": [
    "wine = pd.read_csv('https://archive.ics.uci.edu/ml/machine-learning-databases/wine/wine.data', header=None).values\n",
    "X = wine[:, 1:]\n",
    "y = OneHotEncoder(categories=\"auto\").fit_transform(wine[:, 0].reshape(-1, 1)).toarray()\n",
    "\n",
    "X_train, X_test, y_train, y_test = train_test_split(X, y, test_size=0.4)\n",
    "\n",
    "scaler = MinMaxScaler()\n",
    "scaler.fit(X_train)\n",
    "X_train = scaler.transform(X_train)\n",
    "X_test = scaler.transform(X_test)"
   ]
  },
  {
   "cell_type": "markdown",
   "metadata": {},
   "source": [
    "### SGD vs GD for multiclass logistic regression"
   ]
  },
  {
   "cell_type": "code",
   "execution_count": 60,
   "metadata": {},
   "outputs": [],
   "source": [
    "learning_rate = 1\n",
    "epochs = 250\n",
    "\n",
    "df_accuracy = pd.DataFrame(columns=[\"GD train accuracy\", \"GD test accuracy\", \"SGD train accuracy\", \"SGD test accuracy\"])\n",
    "df_auc = pd.DataFrame(columns=[\"GD train auc\", \"GD test auc\", \"SGD train auc\", \"SGD test auc\"])\n",
    "\n",
    "for i in range(5):\n",
    "    network_gd = Network([X.shape[1], y.shape[1]], loss=\"mse\", learning_rate=learning_rate)\n",
    "    network_sgd = Network([X.shape[1], y.shape[1]], loss=\"mse\", learning_rate=learning_rate)\n",
    "    \n",
    "    network_gd.train(X_train, y_train, X_test, y_test, epochs=epochs, sgd=False)\n",
    "    network_sgd.train(X_train, y_train, X_test, y_test, epochs=epochs, sgd=True)\n",
    "    \n",
    "    df_accuracy.loc[len(df_accuracy)] = [\n",
    "        network_gd.accuracy(X_train, y_train),\n",
    "        network_gd.accuracy(X_test, y_test),\n",
    "        network_sgd.accuracy(X_train, y_train),\n",
    "        network_sgd.accuracy(X_test, y_test)]\n",
    "    \n",
    "    df_auc.loc[len(df_accuracy)] = [\n",
    "        roc_auc_score(y_train, network_gd.predict_proba(X_train)),\n",
    "        roc_auc_score(y_test, network_gd.predict_proba(X_test)),\n",
    "        roc_auc_score(y_train, network_sgd.predict_proba(X_train)),\n",
    "        roc_auc_score(y_test, network_sgd.predict_proba(X_test))]\n",
    "         "
   ]
  },
  {
   "cell_type": "code",
   "execution_count": 66,
   "metadata": {},
   "outputs": [
    {
     "name": "stdout",
     "output_type": "stream",
     "text": [
      "GD train accuracy    0.9698\n",
      "GD test accuracy     0.9278\n",
      "SGD train accuracy   0.9736\n",
      "SGD test accuracy    0.9278\n",
      "dtype: float64\n"
     ]
    }
   ],
   "source": [
    "print(np.mean(df_accuracy))"
   ]
  },
  {
   "cell_type": "code",
   "execution_count": 67,
   "metadata": {},
   "outputs": [
    {
     "data": {
      "text/html": [
       "<div>\n",
       "<style scoped>\n",
       "    .dataframe tbody tr th:only-of-type {\n",
       "        vertical-align: middle;\n",
       "    }\n",
       "\n",
       "    .dataframe tbody tr th {\n",
       "        vertical-align: top;\n",
       "    }\n",
       "\n",
       "    .dataframe thead th {\n",
       "        text-align: right;\n",
       "    }\n",
       "</style>\n",
       "<table border=\"1\" class=\"dataframe\">\n",
       "  <thead>\n",
       "    <tr style=\"text-align: right;\">\n",
       "      <th></th>\n",
       "      <th>GD train auc</th>\n",
       "      <th>GD test auc</th>\n",
       "      <th>SGD train auc</th>\n",
       "      <th>SGD test auc</th>\n",
       "    </tr>\n",
       "  </thead>\n",
       "  <tbody>\n",
       "    <tr>\n",
       "      <th>1</th>\n",
       "      <td>0.9974</td>\n",
       "      <td>0.9923</td>\n",
       "      <td>0.9953</td>\n",
       "      <td>0.9903</td>\n",
       "    </tr>\n",
       "    <tr>\n",
       "      <th>2</th>\n",
       "      <td>0.9995</td>\n",
       "      <td>0.9947</td>\n",
       "      <td>0.9965</td>\n",
       "      <td>0.9916</td>\n",
       "    </tr>\n",
       "    <tr>\n",
       "      <th>3</th>\n",
       "      <td>0.9965</td>\n",
       "      <td>0.9960</td>\n",
       "      <td>0.9992</td>\n",
       "      <td>0.9905</td>\n",
       "    </tr>\n",
       "    <tr>\n",
       "      <th>4</th>\n",
       "      <td>0.9979</td>\n",
       "      <td>0.9915</td>\n",
       "      <td>0.9992</td>\n",
       "      <td>0.9971</td>\n",
       "    </tr>\n",
       "    <tr>\n",
       "      <th>5</th>\n",
       "      <td>0.9978</td>\n",
       "      <td>0.9964</td>\n",
       "      <td>0.9952</td>\n",
       "      <td>0.9884</td>\n",
       "    </tr>\n",
       "  </tbody>\n",
       "</table>\n",
       "</div>"
      ],
      "text/plain": [
       "   GD train auc  GD test auc  SGD train auc  SGD test auc\n",
       "1        0.9974       0.9923         0.9953        0.9903\n",
       "2        0.9995       0.9947         0.9965        0.9916\n",
       "3        0.9965       0.9960         0.9992        0.9905\n",
       "4        0.9979       0.9915         0.9992        0.9971\n",
       "5        0.9978       0.9964         0.9952        0.9884"
      ]
     },
     "execution_count": 67,
     "metadata": {},
     "output_type": "execute_result"
    }
   ],
   "source": [
    "df_auc"
   ]
  },
  {
   "cell_type": "markdown",
   "metadata": {},
   "source": [
    "### Ridge and Lasso"
   ]
  },
  {
   "cell_type": "code",
   "execution_count": 97,
   "metadata": {},
   "outputs": [
    {
     "name": "stderr",
     "output_type": "stream",
     "text": [
      "/opt/anaconda3/lib/python3.7/site-packages/sklearn/model_selection/_split.py:1978: FutureWarning:\n",
      "\n",
      "The default value of cv will change from 3 to 5 in version 0.22. Specify it explicitly to silence this warning.\n",
      "\n",
      "/opt/anaconda3/lib/python3.7/site-packages/sklearn/model_selection/_split.py:1978: FutureWarning:\n",
      "\n",
      "The default value of cv will change from 3 to 5 in version 0.22. Specify it explicitly to silence this warning.\n",
      "\n",
      "/opt/anaconda3/lib/python3.7/site-packages/sklearn/model_selection/_split.py:1978: FutureWarning:\n",
      "\n",
      "The default value of cv will change from 3 to 5 in version 0.22. Specify it explicitly to silence this warning.\n",
      "\n",
      "/opt/anaconda3/lib/python3.7/site-packages/sklearn/model_selection/_split.py:1978: FutureWarning:\n",
      "\n",
      "The default value of cv will change from 3 to 5 in version 0.22. Specify it explicitly to silence this warning.\n",
      "\n",
      "/opt/anaconda3/lib/python3.7/site-packages/sklearn/model_selection/_split.py:1978: FutureWarning:\n",
      "\n",
      "The default value of cv will change from 3 to 5 in version 0.22. Specify it explicitly to silence this warning.\n",
      "\n"
     ]
    }
   ],
   "source": [
    "df_acc2 = pd.DataFrame(columns=[\"Lasso train accuracy\", \"Lasso test accuracy\", \n",
    "                                \"Ridge train accuracy\", \"Ridge test accuracy\"])\n",
    "\n",
    "for i in range(5):\n",
    "    lasso = MultiTaskLassoCV(verbose=0)\n",
    "    lasso.fit(X_train, y_train)\n",
    "\n",
    "    ridge = RidgeCV()\n",
    "    ridge.fit(X_train, y_train)\n",
    "    \n",
    "    df_acc2.loc[len(df_acc2)] = [\n",
    "        accuracy_score(np.argmax(lasso.predict(X_train),axis=1), np.argmax(y_train, axis=1)),\n",
    "        accuracy_score(np.argmax(lasso.predict(X_test),axis=1), np.argmax(y_test, axis=1)),\n",
    "        accuracy_score(np.argmax(ridge.predict(X_train),axis=1), np.argmax(y_train, axis=1)),\n",
    "        accuracy_score(np.argmax(ridge.predict(X_test),axis=1), np.argmax(y_test, axis=1))]"
   ]
  },
  {
   "cell_type": "code",
   "execution_count": 98,
   "metadata": {},
   "outputs": [
    {
     "name": "stdout",
     "output_type": "stream",
     "text": [
      "Lasso train accuracy   1.0000\n",
      "Lasso test accuracy    0.9306\n",
      "Ridge train accuracy   1.0000\n",
      "Ridge test accuracy    0.9306\n",
      "dtype: float64\n"
     ]
    }
   ],
   "source": [
    "print(np.mean(df_acc2))"
   ]
  },
  {
   "cell_type": "markdown",
   "metadata": {},
   "source": [
    "### Step vs logistic"
   ]
  },
  {
   "cell_type": "code",
   "execution_count": 99,
   "metadata": {},
   "outputs": [],
   "source": [
    "learning_rate = 1\n",
    "epochs = 250\n",
    "\n",
    "df_acc3 = pd.DataFrame(columns=[\"Sigmoid train accuracy\", \"Sigmoid test accuracy\", \n",
    "                                \"Step train accuracy\", \"Step test accuracy\"])\n",
    "\n",
    "for i in range(5):\n",
    "    network_sigmoid = Network([X.shape[1], y.shape[1]], loss=\"mse\", learning_rate=learning_rate)\n",
    "    network_sigmoid.train(X_train, y_train, X_test, y_test, epochs=epochs, sgd=True)\n",
    "    \n",
    "    network_step = Network([X.shape[1], y.shape[1]], loss=\"mse\", learning_rate=learning_rate, \n",
    "                           output_activation=\"step\")\n",
    "    network_step.train(X_train, y_train, X_test, y_test, epochs=epochs, sgd=True)\n",
    "    \n",
    "    df_acc3.loc[len(df_acc3)] = [\n",
    "        network_sigmoid.accuracy(X_train, y_train),\n",
    "        network_sigmoid.accuracy(X_test, y_test),\n",
    "        network_step.accuracy(X_train, y_train),\n",
    "        network_step.accuracy(X_test, y_test)]"
   ]
  },
  {
   "cell_type": "code",
   "execution_count": 101,
   "metadata": {},
   "outputs": [
    {
     "name": "stdout",
     "output_type": "stream",
     "text": [
      "Sigmoid train accuracy   0.9717\n",
      "Sigmoid test accuracy    0.8889\n",
      "Step train accuracy      0.9962\n",
      "Step test accuracy       0.8611\n",
      "dtype: float64\n"
     ]
    }
   ],
   "source": [
    "print(np.mean(df_acc3))"
   ]
  },
  {
   "cell_type": "markdown",
   "metadata": {},
   "source": [
    "# Exercise 2: Feed Forward Neural Network"
   ]
  },
  {
   "cell_type": "markdown",
   "metadata": {},
   "source": [
    "### Performance on iris dataset"
   ]
  },
  {
   "cell_type": "code",
   "execution_count": null,
   "metadata": {},
   "outputs": [],
   "source": [
    "iris = datasets.load_iris()\n",
    "X = iris.data\n",
    "X = StandardScaler().fit_transform(X)\n",
    "y_raw = iris.target\n",
    "y = OneHotEncoder(categories=\"auto\").fit_transform(y_raw.reshape(-1, 1)).toarray()\n",
    "X_train, X_test, y_train, y_test = train_test_split(X, y, test_size=0.4)"
   ]
  },
  {
   "cell_type": "code",
   "execution_count": null,
   "metadata": {},
   "outputs": [],
   "source": [
    "network = Network([4, 5, 5, 3], \n",
    "                  dense_activation=\"tanh\", output_activation=\"sigmoid\", \n",
    "                  loss=\"log_loss\", learning_rate=0.5)"
   ]
  },
  {
   "cell_type": "code",
   "execution_count": null,
   "metadata": {},
   "outputs": [],
   "source": [
    "train_loss, train_accuracy, val_loss, val_accuracy = network.train(X_train, y_train, \n",
    "                                                                   X_test, y_test, epochs=400)"
   ]
  },
  {
   "cell_type": "code",
   "execution_count": null,
   "metadata": {},
   "outputs": [],
   "source": [
    "plt.figsize=(12, 8)\n",
    "plt.title(\"Loss\")\n",
    "plt.plot(train_loss, label=\"train loss\")\n",
    "plt.plot(val_loss, label=\"val loss\")\n",
    "plt.legend()"
   ]
  },
  {
   "cell_type": "code",
   "execution_count": null,
   "metadata": {},
   "outputs": [],
   "source": [
    "plt.figsize=(12, 8)\n",
    "plt.title(\"Accuracy\")\n",
    "plt.plot(train_accuracy, label=\"train accuracy\")\n",
    "plt.plot(val_accuracy, label=\"val accuracy\")\n",
    "plt.legend()"
   ]
  },
  {
   "cell_type": "markdown",
   "metadata": {},
   "source": [
    "### Performance on wine dataset"
   ]
  },
  {
   "cell_type": "code",
   "execution_count": null,
   "metadata": {},
   "outputs": [],
   "source": [
    "wine = pd.read_csv('https://archive.ics.uci.edu/ml/machine-learning-databases/wine/wine.data', header=None).values\n",
    "X = wine[:, 1:]\n",
    "y = OneHotEncoder(categories=\"auto\").fit_transform(wine[:, 0].reshape(-1, 1)).toarray()\n",
    "\n",
    "X_train, X_test, y_train, y_test = train_test_split(X, y, test_size=0.4)\n",
    "\n",
    "scaler = MinMaxScaler()\n",
    "scaler.fit(X_train)\n",
    "X_train = scaler.transform(X_train)\n",
    "X_test = scaler.transform(X_test)"
   ]
  },
  {
   "cell_type": "code",
   "execution_count": null,
   "metadata": {},
   "outputs": [],
   "source": [
    "network = Network([13, 8, 8, 3], \n",
    "                  dense_activation=\"tanh\", output_activation=\"sigmoid\", \n",
    "                  loss=\"log_loss\", learning_rate=0.5)"
   ]
  },
  {
   "cell_type": "code",
   "execution_count": null,
   "metadata": {},
   "outputs": [],
   "source": [
    "train_loss, train_accuracy, val_loss, val_accuracy = network.train(X_train, y_train, \n",
    "                                                                   X_test, y_test, epochs=400)"
   ]
  },
  {
   "cell_type": "code",
   "execution_count": null,
   "metadata": {},
   "outputs": [],
   "source": [
    "plt.figsize=(12, 8)\n",
    "plt.title(\"Loss\")\n",
    "plt.plot(train_loss, label=\"train loss\")\n",
    "plt.plot(val_loss, label=\"val loss\")\n",
    "plt.legend()"
   ]
  },
  {
   "cell_type": "code",
   "execution_count": null,
   "metadata": {},
   "outputs": [],
   "source": [
    "plt.figsize=(12, 8)\n",
    "plt.title(\"Accuracy\")\n",
    "plt.plot(train_accuracy, label=\"train accuracy\")\n",
    "plt.plot(val_accuracy, label=\"val accuracy\")\n",
    "plt.legend()"
   ]
  }
 ],
 "metadata": {
  "kernelspec": {
   "display_name": "Python 3",
   "language": "python",
   "name": "python3"
  },
  "language_info": {
   "codemirror_mode": {
    "name": "ipython",
    "version": 3
   },
   "file_extension": ".py",
   "mimetype": "text/x-python",
   "name": "python",
   "nbconvert_exporter": "python",
   "pygments_lexer": "ipython3",
   "version": "3.7.4"
  }
 },
 "nbformat": 4,
 "nbformat_minor": 2
}
