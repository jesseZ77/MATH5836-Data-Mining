{
 "cells": [
  {
   "cell_type": "code",
   "execution_count": 1,
   "metadata": {},
   "outputs": [],
   "source": [
    "from sklearn import datasets\n",
    "from sklearn.linear_model import LinearRegression\n",
    "from sklearn.metrics import r2_score\n",
    "import matplotlib.pyplot as plt\n",
    "%matplotlib inline"
   ]
  },
  {
   "cell_type": "code",
   "execution_count": 2,
   "metadata": {},
   "outputs": [],
   "source": [
    "iris = pd.read_csv(\"iris.data\", header=None)\n",
    "X = iris.iloc[:, :4].values\n",
    "y = iris.iloc[:, 4].astype(\"category\").cat.codes.values"
   ]
  },
  {
   "cell_type": "markdown",
   "metadata": {},
   "source": [
    "# Exercise 1"
   ]
  },
  {
   "cell_type": "code",
   "execution_count": 3,
   "metadata": {},
   "outputs": [],
   "source": [
    "def calc_r2_score(x, y):\n",
    "    model = LinearRegression()\n",
    "    model.fit(x, y)\n",
    "    y_pred = model.predict(x)\n",
    "    return r2_score(y, y_pred)"
   ]
  },
  {
   "cell_type": "code",
   "execution_count": 4,
   "metadata": {},
   "outputs": [
    {
     "name": "stdout",
     "output_type": "stream",
     "text": [
      "R2 score between feature 1 and 3:  0.7599553107783261\n",
      "R2 score between feature 1 and 3:  0.0119616328347677\n",
      "R2 score between feature 1 and 3:  0.6690481463418159\n"
     ]
    }
   ],
   "source": [
    "score_3 = calc_r2_score(X[:, np.newaxis, 0], X[:, np.newaxis, 2])\n",
    "score_2 = calc_r2_score(X[:, np.newaxis, 0], X[:, np.newaxis, 1])\n",
    "score_4 = calc_r2_score(X[:, np.newaxis, 0], X[:, np.newaxis, 3])\n",
    "\n",
    "print(\"R2 score between feature 1 and 3: \", score_3)\n",
    "print(\"R2 score between feature 1 and 3: \", score_2)\n",
    "print(\"R2 score between feature 1 and 3: \", score_4)"
   ]
  },
  {
   "cell_type": "markdown",
   "metadata": {},
   "source": [
    "# Exercise 2"
   ]
  },
  {
   "cell_type": "markdown",
   "metadata": {},
   "source": [
    "### Prepare data"
   ]
  },
  {
   "cell_type": "code",
   "execution_count": 5,
   "metadata": {},
   "outputs": [],
   "source": [
    "train_idx = np.random.choice(np.arange(len(X)), int(0.6 * len(X)))"
   ]
  },
  {
   "cell_type": "code",
   "execution_count": 6,
   "metadata": {},
   "outputs": [],
   "source": [
    "idx = np.where(y != 2)\n",
    "y = y[idx]\n",
    "y = np.where(y == 1, 1, -1)\n",
    "X = X[idx]"
   ]
  },
  {
   "cell_type": "code",
   "execution_count": 7,
   "metadata": {},
   "outputs": [],
   "source": [
    "def train_test_split(X, y, size=0.6):\n",
    "    train_idx = np.random.choice(np.arange(len(X)), int(size * len(X)))\n",
    "    test_idx = list(set(np.arange(len(X))) - set(train_idx))\n",
    "    return X[train_idx, ], X[test_idx, ], y[train_idx], y[test_idx]"
   ]
  },
  {
   "cell_type": "code",
   "execution_count": 8,
   "metadata": {},
   "outputs": [],
   "source": [
    "X_train, X_test, y_train, y_test = train_test_split(X, y)"
   ]
  },
  {
   "cell_type": "markdown",
   "metadata": {},
   "source": [
    "### Without normalisation"
   ]
  },
  {
   "cell_type": "code",
   "execution_count": 9,
   "metadata": {},
   "outputs": [],
   "source": [
    "def calc_mse(X, y, w):\n",
    "    y_pred = X.dot(w)\n",
    "    return np.sum((X.dot(w) - y) ** 2) / len(y)\n",
    "\n",
    "def calc_accuracy(X, y, w):\n",
    "    return sum(np.where(X.dot(w) > 0, 1, -1) == y) / len(y)\n",
    "\n",
    "def calc_gradient(X, y, w):\n",
    "    y_pred = np.where(X.dot(w) > 0, 1, -1)\n",
    "    error = (y - y_pred)\n",
    "    return -(1.0/len(X)) * error.dot(X)\n",
    "\n",
    "def gradient_descent(X, y, start, learning_rate, n_iter, verbose=False):\n",
    "    w = start\n",
    "    for i in range(n_iter):\n",
    "        w -= learning_rate * calc_gradient(X, y, w)\n",
    "        if i % 10 == 0 and verbose:\n",
    "            print(\"MSE: \", round(calc_mse(X, y, w), 4))\n",
    "            print(\"Accuracy: \", round(calc_accuracy(X, y, w), 4))\n",
    "    return w"
   ]
  },
  {
   "cell_type": "code",
   "execution_count": 10,
   "metadata": {},
   "outputs": [
    {
     "name": "stdout",
     "output_type": "stream",
     "text": [
      "MSE:  6.7734\n",
      "Accuracy:  0.5\n",
      "MSE:  1.8128\n",
      "Accuracy:  0.15\n",
      "MSE:  1.1302\n",
      "Accuracy:  0.55\n",
      "MSE:  0.8209\n",
      "Accuracy:  0.8\n",
      "MSE:  0.6971\n",
      "Accuracy:  0.85\n",
      "MSE:  0.6145\n",
      "Accuracy:  0.9\n",
      "MSE:  0.5565\n",
      "Accuracy:  0.9\n",
      "MSE:  0.5094\n",
      "Accuracy:  0.95\n",
      "MSE:  0.4856\n",
      "Accuracy:  0.9167\n",
      "MSE:  0.46\n",
      "Accuracy:  0.9667\n",
      "[-0.05652423  0.04434517 -0.61557867  2.3069301 ]\n"
     ]
    }
   ],
   "source": [
    "w_final = gradient_descent(X_train, y_train, np.random.normal(size=4), 0.01, 100, verbose=True)\n",
    "print(w_final)"
   ]
  },
  {
   "cell_type": "code",
   "execution_count": 11,
   "metadata": {},
   "outputs": [
    {
     "name": "stdout",
     "output_type": "stream",
     "text": [
      "Train MSE:  0.4424\n",
      "Train Accuracy:  0.9667\n",
      "Test MSE:  0.5552\n",
      "Test Accuracy:  0.8182\n"
     ]
    }
   ],
   "source": [
    "print(\"Train MSE: \", round(calc_mse(X_train, y_train, w_final), 4))\n",
    "print(\"Train Accuracy: \", round(calc_accuracy(X_train, y_train, w_final), 4))\n",
    "print(\"Test MSE: \", round(calc_mse(X_test, y_test, w_final), 4))\n",
    "print(\"Test Accuracy: \", round(calc_accuracy(X_test, y_test, w_final), 4))"
   ]
  },
  {
   "cell_type": "markdown",
   "metadata": {},
   "source": [
    "### Do 30 iterations and plot test accuracy"
   ]
  },
  {
   "cell_type": "code",
   "execution_count": 12,
   "metadata": {},
   "outputs": [
    {
     "data": {
      "text/plain": [
       "(array([ 1.,  0.,  0.,  0.,  0.,  1.,  1.,  2.,  1., 24.]),\n",
       " array([0.66666667, 0.7       , 0.73333333, 0.76666667, 0.8       ,\n",
       "        0.83333333, 0.86666667, 0.9       , 0.93333333, 0.96666667,\n",
       "        1.        ]),\n",
       " <a list of 10 Patch objects>)"
      ]
     },
     "execution_count": 12,
     "metadata": {},
     "output_type": "execute_result"
    },
    {
     "data": {
      "image/png": "[encoded data removed]",
      "text/plain": [
       "<Figure size 432x288 with 1 Axes>"
      ]
     },
     "metadata": {
      "needs_background": "light"
     },
     "output_type": "display_data"
    }
   ],
   "source": [
    "weights = [gradient_descent(X_train, y_train, np.random.normal(size=4), 0.01, 100) for i in range(30)]\n",
    "\n",
    "train_accuracy = np.array([\n",
    "    calc_accuracy(X_train, y_train, weight) for weight in weights])\n",
    "test_accuracy = np.array([\n",
    "    calc_accuracy(X_test, y_test, weight) for weight in weights])\n",
    "\n",
    "plt.title(\"Train accuracy\")\n",
    "plt.hist(train_accuracy)"
   ]
  },
  {
   "cell_type": "code",
   "execution_count": 13,
   "metadata": {},
   "outputs": [
    {
     "data": {
      "text/plain": [
       "(array([ 1.,  0.,  0.,  0.,  0.,  1.,  1.,  2.,  4., 21.]),\n",
       " array([0.61818182, 0.65636364, 0.69454545, 0.73272727, 0.77090909,\n",
       "        0.80909091, 0.84727273, 0.88545455, 0.92363636, 0.96181818,\n",
       "        1.        ]),\n",
       " <a list of 10 Patch objects>)"
      ]
     },
     "execution_count": 13,
     "metadata": {},
     "output_type": "execute_result"
    },
    {
     "data": {
      "image/png": "[encoded data removed]",
      "text/plain": [
       "<Figure size 432x288 with 1 Axes>"
      ]
     },
     "metadata": {
      "needs_background": "light"
     },
     "output_type": "display_data"
    }
   ],
   "source": [
    "plt.title(\"Test accuracy\")\n",
    "plt.hist(test_accuracy)"
   ]
  },
  {
   "cell_type": "markdown",
   "metadata": {},
   "source": [
    "### With normalisation"
   ]
  },
  {
   "cell_type": "code",
   "execution_count": 14,
   "metadata": {},
   "outputs": [],
   "source": [
    "X_train_mean = np.mean(X_train, axis=0)\n",
    "X_train_std = np.std(X_train, axis=0)\n",
    "\n",
    "X_train_norm = (X_train - X_train_mean) / X_train_std\n",
    "X_test_norm = (X_test - X_train_mean) / X_train_std"
   ]
  },
  {
   "cell_type": "code",
   "execution_count": 15,
   "metadata": {},
   "outputs": [
    {
     "name": "stdout",
     "output_type": "stream",
     "text": [
      "MSE:  12.8703\n",
      "Accuracy:  0.0\n",
      "MSE:  9.0181\n",
      "Accuracy:  0.0\n",
      "MSE:  5.8619\n",
      "Accuracy:  0.0\n",
      "MSE:  3.4052\n",
      "Accuracy:  0.0167\n",
      "MSE:  1.6885\n",
      "Accuracy:  0.15\n",
      "MSE:  0.9581\n",
      "Accuracy:  0.6167\n",
      "MSE:  0.7166\n",
      "Accuracy:  0.7833\n",
      "MSE:  0.591\n",
      "Accuracy:  0.8333\n",
      "MSE:  0.4969\n",
      "Accuracy:  0.8667\n",
      "MSE:  0.4342\n",
      "Accuracy:  0.9167\n",
      "[ 0.47795867 -0.30831826  0.67174693 -0.78025065]\n"
     ]
    }
   ],
   "source": [
    "w_final_norm = gradient_descent(X_train_norm, y_train, np.random.normal(size=4), 0.01, 100, verbose=True)\n",
    "print(w_final_norm)"
   ]
  },
  {
   "cell_type": "code",
   "execution_count": 16,
   "metadata": {},
   "outputs": [
    {
     "name": "stdout",
     "output_type": "stream",
     "text": [
      "Train MSE:  0.3979\n",
      "Train Accuracy:  0.9167\n",
      "Test MSE:  0.3732\n",
      "Test Accuracy:  0.9273\n"
     ]
    }
   ],
   "source": [
    "print(\"Train MSE: \", round(calc_mse(X_train_norm, y_train, w_final_norm), 4))\n",
    "print(\"Train Accuracy: \", round(calc_accuracy(X_train_norm, y_train, w_final_norm), 4))\n",
    "print(\"Test MSE: \", round(calc_mse(X_test_norm, y_test, w_final_norm), 4))\n",
    "print(\"Test Accuracy: \", round(calc_accuracy(X_test_norm, y_test, w_final_norm), 4))"
   ]
  },
  {
   "cell_type": "markdown",
   "metadata": {},
   "source": [
    "### Do 30 iterations and plot test accuracy"
   ]
  },
  {
   "cell_type": "code",
   "execution_count": 17,
   "metadata": {},
   "outputs": [
    {
     "data": {
      "text/plain": [
       "(array([ 1.,  0.,  0.,  0.,  0.,  2.,  2.,  3.,  8., 14.]),\n",
       " array([0.58333333, 0.625     , 0.66666667, 0.70833333, 0.75      ,\n",
       "        0.79166667, 0.83333333, 0.875     , 0.91666667, 0.95833333,\n",
       "        1.        ]),\n",
       " <a list of 10 Patch objects>)"
      ]
     },
     "execution_count": 17,
     "metadata": {},
     "output_type": "execute_result"
    },
    {
     "data": {
      "image/png": "[encoded data removed]",
      "text/plain": [
       "<Figure size 432x288 with 1 Axes>"
      ]
     },
     "metadata": {
      "needs_background": "light"
     },
     "output_type": "display_data"
    }
   ],
   "source": [
    "weights = [gradient_descent(X_train_norm, y_train, np.random.normal(size=4), 0.01, 100) for i in range(30)]\n",
    "\n",
    "train_accuracy = np.array([\n",
    "    calc_accuracy(X_train_norm, y_train, weight) for weight in weights])\n",
    "test_accuracy = np.array([\n",
    "    calc_accuracy(X_test_norm, y_test, weight) for weight in weights])\n",
    "\n",
    "plt.title(\"Train accuracy\")\n",
    "plt.hist(train_accuracy)"
   ]
  },
  {
   "cell_type": "code",
   "execution_count": 18,
   "metadata": {},
   "outputs": [
    {
     "data": {
      "text/plain": [
       "(array([ 2.,  0.,  0.,  2.,  1.,  0.,  5.,  2.,  8., 10.]),\n",
       " array([0.72727273, 0.75454545, 0.78181818, 0.80909091, 0.83636364,\n",
       "        0.86363636, 0.89090909, 0.91818182, 0.94545455, 0.97272727,\n",
       "        1.        ]),\n",
       " <a list of 10 Patch objects>)"
      ]
     },
     "execution_count": 18,
     "metadata": {},
     "output_type": "execute_result"
    },
    {
     "data": {
      "image/png": "[encoded data removed]",
      "text/plain": [
       "<Figure size 432x288 with 1 Axes>"
      ]
     },
     "metadata": {
      "needs_background": "light"
     },
     "output_type": "display_data"
    }
   ],
   "source": [
    "plt.title(\"Test accuracy\")\n",
    "plt.hist(test_accuracy)"
   ]
  }
 ],
 "metadata": {
  "kernelspec": {
   "display_name": "Python 3",
   "language": "python",
   "name": "python3"
  },
  "language_info": {
   "codemirror_mode": {
    "name": "ipython",
    "version": 3
   },
   "file_extension": ".py",
   "mimetype": "text/x-python",
   "name": "python",
   "nbconvert_exporter": "python",
   "pygments_lexer": "ipython3",
   "version": "3.7.4"
  }
 },
 "nbformat": 4,
 "nbformat_minor": 2
}
