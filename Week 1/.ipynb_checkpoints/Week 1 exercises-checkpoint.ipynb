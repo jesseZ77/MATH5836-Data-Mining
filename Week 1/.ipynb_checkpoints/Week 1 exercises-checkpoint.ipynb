{
 "cells": [
  {
   "cell_type": "code",
   "execution_count": 1,
   "metadata": {},
   "outputs": [],
   "source": [
    "from sklearn import datasets\n",
    "from sklearn.linear_model import LinearRegression\n",
    "from sklearn.metrics import r2_score\n",
    "import matplotlib.pyplot as plt\n",
    "%matplotlib inline"
   ]
  },
  {
   "cell_type": "code",
   "execution_count": 2,
   "metadata": {},
   "outputs": [],
   "source": [
    "iris = datasets.load_iris()\n",
    "X = iris.data\n",
    "y = iris.target"
   ]
  },
  {
   "cell_type": "markdown",
   "metadata": {},
   "source": [
    "# Exercise 1"
   ]
  },
  {
   "cell_type": "code",
   "execution_count": 3,
   "metadata": {},
   "outputs": [],
   "source": [
    "def calc_r2_score(x, y):\n",
    "    model = LinearRegression()\n",
    "    model.fit(x, y)\n",
    "    y_pred = model.predict(x)\n",
    "    return r2_score(y, y_pred)"
   ]
  },
  {
   "cell_type": "code",
   "execution_count": 4,
   "metadata": {},
   "outputs": [
    {
     "name": "stdout",
     "output_type": "stream",
     "text": [
      "R2 score between feature 1 and 3:  0.759954645772515\n",
      "R2 score between feature 1 and 3:  0.013822654141080748\n",
      "R2 score between feature 1 and 3:  0.6690276860464137\n"
     ]
    }
   ],
   "source": [
    "score_3 = calc_r2_score(X[:, np.newaxis, 0], X[:, np.newaxis, 2])\n",
    "score_2 = calc_r2_score(X[:, np.newaxis, 0], X[:, np.newaxis, 1])\n",
    "score_4 = calc_r2_score(X[:, np.newaxis, 0], X[:, np.newaxis, 3])\n",
    "\n",
    "print(\"R2 score between feature 1 and 3: \", score_3)\n",
    "print(\"R2 score between feature 1 and 3: \", score_2)\n",
    "print(\"R2 score between feature 1 and 3: \", score_4)"
   ]
  },
  {
   "cell_type": "markdown",
   "metadata": {},
   "source": [
    "# Exercise 2"
   ]
  },
  {
   "cell_type": "markdown",
   "metadata": {},
   "source": [
    "### Prepare data"
   ]
  },
  {
   "cell_type": "code",
   "execution_count": 5,
   "metadata": {},
   "outputs": [],
   "source": [
    "train_idx = np.random.choice(np.arange(len(X)), int(0.6 * len(X)))"
   ]
  },
  {
   "cell_type": "code",
   "execution_count": 6,
   "metadata": {},
   "outputs": [],
   "source": [
    "idx = np.where(y != 2)\n",
    "y = y[idx]\n",
    "y = np.where(y == 1, 1, -1)\n",
    "X = X[idx]"
   ]
  },
  {
   "cell_type": "code",
   "execution_count": 7,
   "metadata": {},
   "outputs": [],
   "source": [
    "def train_test_split(X, y, size=0.6):\n",
    "    train_idx = np.random.choice(np.arange(len(X)), int(size * len(X)))\n",
    "    test_idx = list(set(np.arange(len(X))) - set(train_idx))\n",
    "    return X[train_idx, ], X[test_idx, ], y[train_idx], y[test_idx]"
   ]
  },
  {
   "cell_type": "code",
   "execution_count": 8,
   "metadata": {},
   "outputs": [],
   "source": [
    "X_train, X_test, y_train, y_test = train_test_split(X, y)"
   ]
  },
  {
   "cell_type": "markdown",
   "metadata": {},
   "source": [
    "### Without normalisation"
   ]
  },
  {
   "cell_type": "code",
   "execution_count": 9,
   "metadata": {},
   "outputs": [],
   "source": [
    "def calc_mse(X, y, w):\n",
    "    y_pred = X.dot(w)\n",
    "    return np.sum((X.dot(w) - y) ** 2) / len(y)\n",
    "\n",
    "def calc_accuracy(X, y, w):\n",
    "    return sum(np.where(X.dot(w) > 0, 1, -1) == y) / len(y)\n",
    "\n",
    "def calc_gradient(X, y, w):\n",
    "    y_pred = X.dot(w)\n",
    "    error = (y - y_pred)\n",
    "    return -(1.0/len(X)) * error.dot(X)\n",
    "\n",
    "def gradient_descent(X, y, start, learning_rate, n_iter, verbose=False):\n",
    "    w = start\n",
    "    for i in range(n_iter):\n",
    "        w -= learning_rate * calc_gradient(X, y, w)\n",
    "        if i % 10 == 0 and verbose:\n",
    "            print(\"MSE: \", round(calc_mse(X, y, w), 4))\n",
    "            print(\"Accuracy: \", round(calc_accuracy(X, y, w), 4))\n",
    "    return w"
   ]
  },
  {
   "cell_type": "code",
   "execution_count": 10,
   "metadata": {},
   "outputs": [
    {
     "name": "stdout",
     "output_type": "stream",
     "text": [
      "MSE:  8.394\n",
      "Accuracy:  0.0167\n",
      "MSE:  4.5266\n",
      "Accuracy:  0.0\n",
      "MSE:  3.0535\n",
      "Accuracy:  0.0\n",
      "MSE:  2.065\n",
      "Accuracy:  0.0\n",
      "MSE:  1.4017\n",
      "Accuracy:  0.1833\n",
      "MSE:  0.9566\n",
      "Accuracy:  0.6333\n",
      "MSE:  0.6578\n",
      "Accuracy:  0.8667\n",
      "MSE:  0.4573\n",
      "Accuracy:  0.9833\n",
      "MSE:  0.3228\n",
      "Accuracy:  0.9833\n",
      "MSE:  0.2325\n",
      "Accuracy:  1.0\n",
      "[-0.1341415  -0.20309934  0.55790609 -0.40039935]\n"
     ]
    }
   ],
   "source": [
    "w_final = gradient_descent(X_train, y_train, np.random.normal(size=4), 0.01, 100, verbose=True)\n",
    "print(w_final)"
   ]
  },
  {
   "cell_type": "code",
   "execution_count": 11,
   "metadata": {},
   "outputs": [
    {
     "name": "stdout",
     "output_type": "stream",
     "text": [
      "Train MSE:  0.1769\n",
      "Train Accuracy:  1.0\n",
      "Test MSE:  0.2353\n",
      "Test Accuracy:  1.0\n"
     ]
    }
   ],
   "source": [
    "print(\"Train MSE: \", round(calc_mse(X_train, y_train, w_final), 4))\n",
    "print(\"Train Accuracy: \", round(calc_accuracy(X_train, y_train, w_final), 4))\n",
    "print(\"Test MSE: \", round(calc_mse(X_test, y_test, w_final), 4))\n",
    "print(\"Test Accuracy: \", round(calc_accuracy(X_test, y_test, w_final), 4))"
   ]
  },
  {
   "cell_type": "markdown",
   "metadata": {},
   "source": [
    "### Do 30 iterations and plot test accuracy"
   ]
  },
  {
   "cell_type": "code",
   "execution_count": 12,
   "metadata": {},
   "outputs": [
    {
     "data": {
      "text/plain": [
       "(array([ 1.,  0.,  0.,  0.,  0.,  1.,  0.,  0.,  0., 28.]),\n",
       " array([0.81666667, 0.835     , 0.85333333, 0.87166667, 0.89      ,\n",
       "        0.90833333, 0.92666667, 0.945     , 0.96333333, 0.98166667,\n",
       "        1.        ]),\n",
       " <a list of 10 Patch objects>)"
      ]
     },
     "execution_count": 12,
     "metadata": {},
     "output_type": "execute_result"
    },
    {
     "data": {
      "image/png": "[encoded data removed]",
      "text/plain": [
       "<Figure size 432x288 with 1 Axes>"
      ]
     },
     "metadata": {
      "needs_background": "light"
     },
     "output_type": "display_data"
    }
   ],
   "source": [
    "weights = [gradient_descent(X_train, y_train, np.random.normal(size=4), 0.01, 100) for i in range(30)]\n",
    "\n",
    "train_accuracy = np.array([\n",
    "    calc_accuracy(X_train, y_train, weight) for weight in weights])\n",
    "test_accuracy = np.array([\n",
    "    calc_accuracy(X_test, y_test, weight) for weight in weights])\n",
    "\n",
    "plt.title(\"Train accuracy\")\n",
    "plt.hist(train_accuracy)"
   ]
  },
  {
   "cell_type": "code",
   "execution_count": 13,
   "metadata": {},
   "outputs": [
    {
     "data": {
      "text/plain": [
       "(array([ 1.,  0.,  0.,  0.,  0.,  0.,  0.,  2.,  1., 26.]),\n",
       " array([0.67857143, 0.71071429, 0.74285714, 0.775     , 0.80714286,\n",
       "        0.83928571, 0.87142857, 0.90357143, 0.93571429, 0.96785714,\n",
       "        1.        ]),\n",
       " <a list of 10 Patch objects>)"
      ]
     },
     "execution_count": 13,
     "metadata": {},
     "output_type": "execute_result"
    },
    {
     "data": {
      "image/png": "[encoded data removed]",
      "text/plain": [
       "<Figure size 432x288 with 1 Axes>"
      ]
     },
     "metadata": {
      "needs_background": "light"
     },
     "output_type": "display_data"
    }
   ],
   "source": [
    "plt.title(\"Test accuracy\")\n",
    "plt.hist(test_accuracy)"
   ]
  },
  {
   "cell_type": "markdown",
   "metadata": {},
   "source": [
    "### With normalisation"
   ]
  },
  {
   "cell_type": "code",
   "execution_count": 14,
   "metadata": {},
   "outputs": [],
   "source": [
    "X_train_mean = np.mean(X_train, axis=0)\n",
    "X_train_std = np.std(X_train, axis=0)\n",
    "\n",
    "X_train_norm = (X_train - X_train_mean) / X_train_std\n",
    "X_test_norm = (X_test - X_train_mean) / X_train_std"
   ]
  },
  {
   "cell_type": "code",
   "execution_count": 15,
   "metadata": {},
   "outputs": [
    {
     "name": "stdout",
     "output_type": "stream",
     "text": [
      "MSE:  0.3252\n",
      "Accuracy:  0.95\n",
      "MSE:  0.2954\n",
      "Accuracy:  0.95\n",
      "MSE:  0.271\n",
      "Accuracy:  0.95\n",
      "MSE:  0.2503\n",
      "Accuracy:  0.9667\n",
      "MSE:  0.2325\n",
      "Accuracy:  0.9667\n",
      "MSE:  0.2171\n",
      "Accuracy:  0.9667\n",
      "MSE:  0.2037\n",
      "Accuracy:  0.9667\n",
      "MSE:  0.1919\n",
      "Accuracy:  1.0\n",
      "MSE:  0.1815\n",
      "Accuracy:  1.0\n",
      "MSE:  0.1724\n",
      "Accuracy:  1.0\n",
      "[0.10823635 0.15314072 0.52765847 0.44976526]\n"
     ]
    }
   ],
   "source": [
    "w_final_norm = gradient_descent(X_train_norm, y_train, np.random.normal(size=4), 0.01, 100, verbose=True)\n",
    "print(w_final_norm)"
   ]
  },
  {
   "cell_type": "code",
   "execution_count": 16,
   "metadata": {},
   "outputs": [
    {
     "name": "stdout",
     "output_type": "stream",
     "text": [
      "Train MSE:  0.1652\n",
      "Train Accuracy:  1.0\n",
      "Test MSE:  0.2405\n",
      "Test Accuracy:  1.0\n"
     ]
    }
   ],
   "source": [
    "print(\"Train MSE: \", round(calc_mse(X_train_norm, y_train, w_final_norm), 4))\n",
    "print(\"Train Accuracy: \", round(calc_accuracy(X_train_norm, y_train, w_final_norm), 4))\n",
    "print(\"Test MSE: \", round(calc_mse(X_test_norm, y_test, w_final_norm), 4))\n",
    "print(\"Test Accuracy: \", round(calc_accuracy(X_test_norm, y_test, w_final_norm), 4))"
   ]
  },
  {
   "cell_type": "markdown",
   "metadata": {},
   "source": [
    "### Do 30 iterations and plot test accuracy"
   ]
  },
  {
   "cell_type": "code",
   "execution_count": 17,
   "metadata": {},
   "outputs": [
    {
     "data": {
      "text/plain": [
       "(array([ 3.,  0.,  2.,  4.,  0.,  1.,  3.,  2.,  1., 14.]),\n",
       " array([0.78333333, 0.805     , 0.82666667, 0.84833333, 0.87      ,\n",
       "        0.89166667, 0.91333333, 0.935     , 0.95666667, 0.97833333,\n",
       "        1.        ]),\n",
       " <a list of 10 Patch objects>)"
      ]
     },
     "execution_count": 17,
     "metadata": {},
     "output_type": "execute_result"
    },
    {
     "data": {
      "image/png": "[encoded data removed]",
      "text/plain": [
       "<Figure size 432x288 with 1 Axes>"
      ]
     },
     "metadata": {
      "needs_background": "light"
     },
     "output_type": "display_data"
    }
   ],
   "source": [
    "weights = [gradient_descent(X_train_norm, y_train, np.random.normal(size=4), 0.01, 100) for i in range(30)]\n",
    "\n",
    "train_accuracy = np.array([\n",
    "    calc_accuracy(X_train_norm, y_train, weight) for weight in weights])\n",
    "test_accuracy = np.array([\n",
    "    calc_accuracy(X_test_norm, y_test, weight) for weight in weights])\n",
    "\n",
    "plt.title(\"Train accuracy\")\n",
    "plt.hist(train_accuracy)"
   ]
  },
  {
   "cell_type": "code",
   "execution_count": 18,
   "metadata": {},
   "outputs": [
    {
     "data": {
      "text/plain": [
       "(array([ 1.,  0.,  2.,  1.,  1.,  1.,  0.,  6.,  4., 14.]),\n",
       " array([0.67857143, 0.71071429, 0.74285714, 0.775     , 0.80714286,\n",
       "        0.83928571, 0.87142857, 0.90357143, 0.93571429, 0.96785714,\n",
       "        1.        ]),\n",
       " <a list of 10 Patch objects>)"
      ]
     },
     "execution_count": 18,
     "metadata": {},
     "output_type": "execute_result"
    },
    {
     "data": {
      "image/png": "[encoded data removed]",
      "text/plain": [
       "<Figure size 432x288 with 1 Axes>"
      ]
     },
     "metadata": {
      "needs_background": "light"
     },
     "output_type": "display_data"
    }
   ],
   "source": [
    "plt.title(\"Test accuracy\")\n",
    "plt.hist(test_accuracy)"
   ]
  }
 ],
 "metadata": {
  "kernelspec": {
   "display_name": "Python 3",
   "language": "python",
   "name": "python3"
  },
  "language_info": {
   "codemirror_mode": {
    "name": "ipython",
    "version": 3
   },
   "file_extension": ".py",
   "mimetype": "text/x-python",
   "name": "python",
   "nbconvert_exporter": "python",
   "pygments_lexer": "ipython3",
   "version": "3.7.4"
  }
 },
 "nbformat": 4,
 "nbformat_minor": 2
}
